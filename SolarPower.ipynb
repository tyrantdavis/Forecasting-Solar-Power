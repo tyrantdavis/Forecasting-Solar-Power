{
 "cells": [
  {
   "cell_type": "markdown",
   "id": "94978ede-f9e1-4f7b-8eb8-6ef64763619d",
   "metadata": {},
   "source": [
    "# Import Software Libraries"
   ]
  },
  {
   "cell_type": "code",
   "execution_count": 1,
   "id": "ba72d805-a673-459b-bed4-7d3a50e48c2d",
   "metadata": {},
   "outputs": [
    {
     "name": "stdout",
     "output_type": "stream",
     "text": [
      "Libraries used in this project:\n",
      "- NumPy 1.24.3\n",
      "- pandas 2.0.3\n",
      "- scikit-learn 1.3.2\n",
      "- statsmodels 0.14.1\n",
      "- Matplotlib 3.7.2\n",
      "- Python 3.8.18 | packaged by conda-forge | (default, Dec 23 2023, 17:23:49) \n",
      "[Clang 15.0.7 ]\n",
      "\n"
     ]
    }
   ],
   "source": [
    "import datetime as dt  # Work with datetime types.\n",
    "import os  # Interact with the operating system.\n",
    "import sys  # Read system parameters.\n",
    "from io import StringIO  # Read and write strings as files\n",
    "from urllib.parse import urlparse  # Parse url and extract path component\n",
    "\n",
    "import matplotlib\n",
    "import matplotlib.pyplot as plt\n",
    "import numpy as np  # Work with multi-dimensional arrays and matrices.\n",
    "import pandas as pd  # Manipulate and analyze data frames.\n",
    "import requests  # Send HTTP requests\n",
    "import sklearn  # Perform feature engineering and machine learning.\n",
    "import statsmodels  # Perform statistical modeling.\n",
    "\n",
    "# Summarize software libraries used.\n",
    "print(\"Libraries used in this project:\")\n",
    "print(\"- NumPy {}\".format(np.__version__))\n",
    "print(\"- pandas {}\".format(pd.__version__))\n",
    "print(\"- scikit-learn {}\".format(sklearn.__version__))\n",
    "print(\"- statsmodels {}\".format(statsmodels.__version__))\n",
    "print(\"- Matplotlib {}\".format(matplotlib.__version__))\n",
    "print(\"- Python {}\\n\".format(sys.version))"
   ]
  },
  {
   "cell_type": "markdown",
   "id": "e53989b5-8ac6-4bb4-8cb0-96f4f1dfc260",
   "metadata": {},
   "source": [
    "# Load Dataset"
   ]
  },
  {
   "cell_type": "code",
   "execution_count": 2,
   "id": "69ec5a95-c6bf-40e8-ae72-73047a7a4fbb",
   "metadata": {},
   "outputs": [
    {
     "name": "stdout",
     "output_type": "stream",
     "text": [
      "Loaded 591 records form elect_net_gen_solar.csv.\n",
      "          ElectNetGen\n",
      "Date                 \n",
      "2021 11      7873.778\n",
      "2021 12      6354.878\n",
      "2022 01      8003.896\n",
      "2022 02      9202.560\n",
      "2022 03     11890.566\n"
     ]
    }
   ],
   "source": [
    "# Capture URL\n",
    "url = \"https://raw.githubusercontent.com/tyrantdavis/datasets/refs/heads/main/elect_net_gen_solar.csv\"\n",
    "request = requests.get(url).text\n",
    "\n",
    "# Save as dataframe and copy\n",
    "original = pd.read_csv(StringIO(request), index_col=\"Date\")\n",
    "df = original.copy()\n",
    "\n",
    "# Parse URL\n",
    "parsed_url = urlparse(url)\n",
    "path = parsed_url.path\n",
    "filename = os.path.basename(path)\n",
    "\n",
    "\n",
    "print(f\"Loaded {len(df)} records form {filename}.\")\n",
    "print(df.tail())"
   ]
  },
  {
   "cell_type": "markdown",
   "id": "b7a22be2-6790-43b5-bb52-a17ebaf9a10c",
   "metadata": {},
   "source": [
    "# Get Acquainted with the Dataset"
   ]
  },
  {
   "cell_type": "code",
   "execution_count": 3,
   "id": "0935af05-bbdf-4261-8aeb-c49e2ad96582",
   "metadata": {},
   "outputs": [
    {
     "name": "stdout",
     "output_type": "stream",
     "text": [
      "<class 'pandas.core.frame.DataFrame'>\n",
      "Index: 591 entries, 1973 01  to 2022 03 \n",
      "Data columns (total 1 columns):\n",
      " #   Column       Non-Null Count  Dtype  \n",
      "---  ------       --------------  -----  \n",
      " 0   ElectNetGen  459 non-null    float64\n",
      "dtypes: float64(1)\n",
      "memory usage: 9.2+ KB\n",
      "None\n"
     ]
    },
    {
     "data": {
      "text/html": [
       "<div>\n",
       "<style scoped>\n",
       "    .dataframe tbody tr th:only-of-type {\n",
       "        vertical-align: middle;\n",
       "    }\n",
       "\n",
       "    .dataframe tbody tr th {\n",
       "        vertical-align: top;\n",
       "    }\n",
       "\n",
       "    .dataframe thead th {\n",
       "        text-align: right;\n",
       "    }\n",
       "</style>\n",
       "<table border=\"1\" class=\"dataframe\">\n",
       "  <thead>\n",
       "    <tr style=\"text-align: right;\">\n",
       "      <th></th>\n",
       "      <th>ElectNetGen</th>\n",
       "    </tr>\n",
       "    <tr>\n",
       "      <th>Date</th>\n",
       "      <th></th>\n",
       "    </tr>\n",
       "  </thead>\n",
       "  <tbody>\n",
       "    <tr>\n",
       "      <th>1973 01</th>\n",
       "      <td>NaN</td>\n",
       "    </tr>\n",
       "    <tr>\n",
       "      <th>1973 02</th>\n",
       "      <td>NaN</td>\n",
       "    </tr>\n",
       "    <tr>\n",
       "      <th>1973 03</th>\n",
       "      <td>NaN</td>\n",
       "    </tr>\n",
       "    <tr>\n",
       "      <th>1973 04</th>\n",
       "      <td>NaN</td>\n",
       "    </tr>\n",
       "    <tr>\n",
       "      <th>1973 05</th>\n",
       "      <td>NaN</td>\n",
       "    </tr>\n",
       "    <tr>\n",
       "      <th>...</th>\n",
       "      <td>...</td>\n",
       "    </tr>\n",
       "    <tr>\n",
       "      <th>2021 11</th>\n",
       "      <td>7873.778</td>\n",
       "    </tr>\n",
       "    <tr>\n",
       "      <th>2021 12</th>\n",
       "      <td>6354.878</td>\n",
       "    </tr>\n",
       "    <tr>\n",
       "      <th>2022 01</th>\n",
       "      <td>8003.896</td>\n",
       "    </tr>\n",
       "    <tr>\n",
       "      <th>2022 02</th>\n",
       "      <td>9202.560</td>\n",
       "    </tr>\n",
       "    <tr>\n",
       "      <th>2022 03</th>\n",
       "      <td>11890.566</td>\n",
       "    </tr>\n",
       "  </tbody>\n",
       "</table>\n",
       "<p>591 rows × 1 columns</p>\n",
       "</div>"
      ],
      "text/plain": [
       "          ElectNetGen\n",
       "Date                 \n",
       "1973 01           NaN\n",
       "1973 02           NaN\n",
       "1973 03           NaN\n",
       "1973 04           NaN\n",
       "1973 05           NaN\n",
       "...               ...\n",
       "2021 11      7873.778\n",
       "2021 12      6354.878\n",
       "2022 01      8003.896\n",
       "2022 02      9202.560\n",
       "2022 03     11890.566\n",
       "\n",
       "[591 rows x 1 columns]"
      ]
     },
     "execution_count": 3,
     "metadata": {},
     "output_type": "execute_result"
    }
   ],
   "source": [
    "print(df.info())\n",
    "df"
   ]
  },
  {
   "cell_type": "markdown",
   "id": "8a9a6f98-09cb-4f93-8ecd-3fbca13e1d66",
   "metadata": {},
   "source": [
    "**Spotlights**\n",
    "\n",
    "• The data frame consists of a single column named ElectNetGen.  \n",
    "• ElectNetGen contains floating point numbers.  \n",
    "• The data frame has a Date index that captures the month and year of each record. This will be converted to a datetime format for simplicity.  \n",
    "• The net electricity generated is quantified in gigawatt-hours (GWh), equivalent to one million kilowatt-hours (kWh).  \n",
    "• Some of the earlier years have missing entries. This is understandable as solar power is a relatively recent development. However, these missing values will need to be addressed. "
   ]
  },
  {
   "cell_type": "markdown",
   "id": "c1c76f8f-475a-4b1d-9965-9f3adb3311fa",
   "metadata": {},
   "source": [
    "# Process `Date` Index to Datetime Format Conversion "
   ]
  },
  {
   "cell_type": "code",
   "execution_count": 4,
   "id": "088934a1-acfe-4860-8679-0a2e5d347a78",
   "metadata": {},
   "outputs": [
    {
     "name": "stdout",
     "output_type": "stream",
     "text": [
      "The Date index is now properly formatted.\n"
     ]
    },
    {
     "name": "stderr",
     "output_type": "stream",
     "text": [
      "/var/folders/yk/_g2wb8q55v9gmytn656hxt7h0000gp/T/ipykernel_38862/2223087393.py:1: UserWarning: Could not infer format, so each element will be parsed individually, falling back to `dateutil`. To ensure parsing is consistent and as-expected, please specify a format.\n",
      "  df.index = pd.to_datetime(df.index).to_period(\"M\")  # Specify months.\n"
     ]
    }
   ],
   "source": [
    "df.index = pd.to_datetime(df.index).to_period(\"M\")  # Specify months.\n",
    "df.head()\n",
    "print(\"The Date index is now properly formatted.\")"
   ]
  }
 ],
 "metadata": {
  "kernelspec": {
   "display_name": "Python 3 (ipykernel)",
   "language": "python",
   "name": "python3"
  },
  "language_info": {
   "codemirror_mode": {
    "name": "ipython",
    "version": 3
   },
   "file_extension": ".py",
   "mimetype": "text/x-python",
   "name": "python",
   "nbconvert_exporter": "python",
   "pygments_lexer": "ipython3",
   "version": "3.8.18"
  }
 },
 "nbformat": 4,
 "nbformat_minor": 5
}
